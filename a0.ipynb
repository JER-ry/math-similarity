{
 "cells": [
  {
   "cell_type": "code",
   "execution_count": 13,
   "metadata": {},
   "outputs": [],
   "source": [
    "import shutil\n",
    "import os\n",
    "import pya0\n",
    "import json\n",
    "import pandas as pd\n",
    "\n",
    "\n",
    "index_path = \"index\"  # output index path"
   ]
  },
  {
   "cell_type": "code",
   "execution_count": 14,
   "metadata": {},
   "outputs": [
    {
     "name": "stdout",
     "output_type": "stream",
     "text": [
      "Index creating ...\n",
      "creating index path at index\n",
      "index merged\n"
     ]
    }
   ],
   "source": [
    "print(\"Index creating ...\")\n",
    "if os.path.exists(index_path):\n",
    "    shutil.rmtree(index_path)\n",
    "ix = pya0.index_open(index_path)\n",
    "if ix is None:\n",
    "    print(\"cannot create index!\")\n",
    "    quit()\n",
    "writer = pya0.index_writer(ix)\n",
    "contents_list = [\n",
    "    r\"V _ { C E } = V _ { C C } - I _ { C } R _ { C }\",\n",
    "    r\"R _ { w } = 4 6 5 \\cdot 1 0 ^ { 3 } \\Omega = 4 6 5 k \\Omega\",\n",
    "    r\"\\dot { A _ { u } } = \\dot { A _ { u 1 } } \\cdot \\dot { A _ { u 2 } } = - \\frac {\\beta _ { 1 } R _ { i 2 } } { R _ { i } } \\frac { ( 1 + \\beta _ { 2 } ) R _ { 3 } } { r _ { b e 2 } + ( 1 + \\beta _ { 2 } ) R _ { 3 } }\",\n",
    "    r\"R _ { 0 } = R _ { 3 } || \\frac { R _ { 2 } + r _ { b e 2 } } { 1 + \\beta }\",\n",
    "    r\"P _ { m a x } = \\frac { 1 } { 2 } \\frac { V _ { 0 4 } ^ { 2 } } { R _ { L } } = \\frac { 1 } { 2 } \\times \\frac { 1 2 ^ { 2 } } { 8 } = 9 W\",\n",
    "]\n",
    "for contents in contents_list:\n",
    "    pya0.writer_add_doc(writer, content=f\"[imath]{contents}[/imath]\")\n",
    "    pya0.writer_flush(writer)\n",
    "if pya0.writer_maintain(writer, force=True):\n",
    "    print(\"index merged\")\n",
    "pya0.writer_close(writer)\n",
    "pya0.index_close(ix)"
   ]
  },
  {
   "cell_type": "code",
   "execution_count": 15,
   "metadata": {},
   "outputs": [
    {
     "name": "stdout",
     "output_type": "stream",
     "text": [
      "Searching ...\n",
      "   docid   score                                      field_content\n",
      "0      2  57.543  R _ { w } = 4 6 5 \\cdot 1 0 ^ { 3 } \\Omega = 4...\n",
      "1      3  18.598  \\dot { A _ { u } } = \\dot { A _ { u 1 } } \\cdo...\n",
      "2      4  16.927  R _ { 0 } = R _ { 3 } || \\frac { R _ { 2 } + r...\n",
      "3      5  15.915  P _ { m a x } = \\frac { 1 } { 2 } \\frac { V _ ...\n",
      "4      1   8.706    V _ { C E } = V _ { C C } - I _ { C } R _ { C }\n"
     ]
    }
   ],
   "source": [
    "print(\"Searching ...\")\n",
    "ix = pya0.index_open(index_path, option=\"r\")\n",
    "JSON = pya0.search(ix, [{\"str\": \"R _ { w } = 4 6 5 k \\Omega\", \"type\": \"tex\"}])\n",
    "results = json.loads(JSON)\n",
    "df = pd.DataFrame(results[\"hits\"]).drop(columns=[\"rank\", \"field_url\", \"field_extern_id\"])\n",
    "df[\"field_content\"] = df[\"field_content\"].map(lambda x: x.replace('<em class=\"hl\">[imath]', \"\").replace('[/imath]</em> ... ', \"\"))\n",
    "print(df)\n",
    "pya0.index_close(ix)"
   ]
  },
  {
   "cell_type": "code",
   "execution_count": 22,
   "metadata": {},
   "outputs": [
    {
     "name": "stdout",
     "output_type": "stream",
     "text": [
      "R _ { w } = 4 6 5 \\cdot 1 0 ^ { 3 } \\Omega = 4 6 5 k \\Omega\n"
     ]
    }
   ],
   "source": [
    "print(df.loc[0][\"field_content\"])"
   ]
  },
  {
   "attachments": {},
   "cell_type": "markdown",
   "metadata": {},
   "source": [
    "$$\n",
    "R _ { w } = 4 6 5 \\cdot 1 0 ^ { 3 } \\Omega = 4 6 5 k \\Omega\n",
    "$$"
   ]
  }
 ],
 "metadata": {
  "kernelspec": {
   "display_name": "w1",
   "language": "python",
   "name": "python3"
  },
  "language_info": {
   "codemirror_mode": {
    "name": "ipython",
    "version": 3
   },
   "file_extension": ".py",
   "mimetype": "text/x-python",
   "name": "python",
   "nbconvert_exporter": "python",
   "pygments_lexer": "ipython3",
   "version": "3.10.10"
  },
  "orig_nbformat": 4
 },
 "nbformat": 4,
 "nbformat_minor": 2
}
