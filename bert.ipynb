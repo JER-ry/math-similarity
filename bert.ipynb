{
 "cells": [
  {
   "cell_type": "code",
   "execution_count": 1,
   "metadata": {},
   "outputs": [],
   "source": [
    "import torch\n",
    "from transformers import AutoTokenizer, AutoModelForSequenceClassification\n",
    "\n",
    "tokenizer = AutoTokenizer.from_pretrained(\"AnReu/albert-for-arqmath-3\")\n",
    "model = AutoModelForSequenceClassification.from_pretrained(\"AnReu/albert-for-arqmath-3\")"
   ]
  },
  {
   "cell_type": "code",
   "execution_count": 2,
   "metadata": {},
   "outputs": [
    {
     "name": "stdout",
     "output_type": "stream",
     "text": [
      "Relevant 97.65%\n"
     ]
    }
   ],
   "source": [
    "sequence_0 = \"$V _ { C E } = V _ { C C } - I _ { C } R _ { C }$\"\n",
    "sequence_1 = \"$R _ { w } = 4 6 5 \\cdot 1 0 ^ { 3 } \\Omega = 4 6 5 k \\Omega$\"\n",
    "\n",
    "# The tokenizer will automatically add any model specific separators (i.e. <CLS> and <SEP>) and tokens to\n",
    "# the sequence, as well as compute the attention masks.\n",
    "pair = tokenizer(sequence_0, sequence_1, return_tensors=\"pt\")\n",
    "classification_logits = model(**pair).logits\n",
    "relevant_prob = torch.softmax(classification_logits, dim=1).tolist()[0][1]\n",
    "\n",
    "print(f\"Relevant {relevant_prob*100:.2f}%\")"
   ]
  }
 ],
 "metadata": {
  "kernelspec": {
   "display_name": "w1",
   "language": "python",
   "name": "python3"
  },
  "language_info": {
   "codemirror_mode": {
    "name": "ipython",
    "version": 3
   },
   "file_extension": ".py",
   "mimetype": "text/x-python",
   "name": "python",
   "nbconvert_exporter": "python",
   "pygments_lexer": "ipython3",
   "version": "3.10.10"
  },
  "orig_nbformat": 4
 },
 "nbformat": 4,
 "nbformat_minor": 2
}
